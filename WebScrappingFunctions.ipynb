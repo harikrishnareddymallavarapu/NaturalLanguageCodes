{
  "nbformat": 4,
  "nbformat_minor": 0,
  "metadata": {
    "colab": {
      "name": "WebScrappingFunctions.ipynb",
      "provenance": [],
      "collapsed_sections": []
    },
    "kernelspec": {
      "name": "python3",
      "display_name": "Python 3"
    }
  },
  "cells": [
    {
      "cell_type": "code",
      "metadata": {
        "id": "zlKimcZ6Vlnc",
        "colab_type": "code",
        "colab": {}
      },
      "source": [
        "from urllib import request\n",
        "from bs4 import BeautifulSoup as bs\n",
        "import re\n",
        "import nltk\n",
        "import pandas as pd\n",
        "import numpy as np\n",
        "from urllib.request import Request, urlopen"
      ],
      "execution_count": 82,
      "outputs": []
    },
    {
      "cell_type": "code",
      "metadata": {
        "id": "eEzSjXQsWEOR",
        "colab_type": "code",
        "colab": {}
      },
      "source": [
        "def urlparagraphWebScrap(urlIds):\n",
        "  docDataFrame = pd.DataFrame(columns = ['url','text'])\n",
        "  for i in range(len(urlIds)):\n",
        "    allParagraphContent = ''\n",
        "    req = Request(urlIds[i], headers={'User-Agent': 'Mozilla/5.0'})\n",
        "    htmlDoc = request.urlopen(req)\n",
        "    soupObject = bs(htmlDoc,'html.parser')\n",
        "    paragraphContents = soupObject.findAll('p')\n",
        "    allparagraphContent = ' '.join(str(paragraphContent.text) for paragraphContent in paragraphContents)\n",
        "    docDataFrame.loc[i,'url'] = urlIds[i]\n",
        "    docDataFrame.loc[i,'text'] = allparagraphContent\n",
        "    #print(docDataFrame['text'].loc[i])\n",
        "    #print(allparagraphContent)\n",
        "  return docDataFrame  \n"
      ],
      "execution_count": 106,
      "outputs": []
    },
    {
      "cell_type": "code",
      "metadata": {
        "id": "DkElZTZxfdJ7",
        "colab_type": "code",
        "colab": {}
      },
      "source": [
        "urlIds = ['https://www.fairobserver.com/region/asia_pacific/ming-wait-st-india-china-border-conflict-asia-world-news-headlines-46827/?gclid=CjwKCAjw88v3BRBFEiwApwLevXwhb7vzd-1TpsM39NmosLdAUWbWLqVzvSUA5t1ub8S-GiP0tKAhuRoCRWkQAvD_BwE']"
      ],
      "execution_count": 95,
      "outputs": []
    },
    {
      "cell_type": "code",
      "metadata": {
        "id": "fbFtu8WBfZrm",
        "colab_type": "code",
        "colab": {
          "base_uri": "https://localhost:8080/",
          "height": 55
        },
        "outputId": "c0c23f85-15e7-4288-d479-7e3ac88b86f0"
      },
      "source": [
        "data = urlparagraphWebScrap(urlIds)"
      ],
      "execution_count": 109,
      "outputs": [
        {
          "output_type": "stream",
          "text": [
            "© Tomasz Makowski The border clash between China and India has made the headlines of international news. On May 5, troops from both countries confronted each other on the banks of Pangong Lake in Ladakh, the northernmost region of India. Four days later, they squared off in North Sikkim, an area of India that lies between Nepal and Bhutan. READ MORE Although no shots were fired, stones were thrown and fistfights broke out. They resulted in injuries to 11 soldiers from both sides. Numerous fights also occurred in the following weeks, with troops stationed in disputed territories accusing the other side of trespassing. US President Trump offered to mediate but this was rejected.    This is not the first China-India border conflict. In 2017, both sides confronted each other in Doklam Plateau — a tri-border area between India, China and Bhutan — for two months, almost triggering an armed conflict. Such tensions between the two countries have existed for over seven decades. They triggered the Sino-Indian War in 1962. Today, China claims and refers to the Indian state of Arunachal Pradesh as Southern Tibet. On the other hand, India sees the China-controlled Aksai Chin as its territory. Since 1962, both sides have signed a series of agreements and agreed to respect the Line of Actual Control that separates the countries. Despite rising tensions, the current standoff is unlikely to turn into a direct military confrontation for a number of reasons. First, the border conflict could simply be a means of relieving leaders of both countries from rising internal pressure. The worsening global economic conditions and the ongoing China-US trade war no longer enable Beijing to rely on rapid growth as the sole source of the regime’s security. Instead of relying on its domestic economic performance, China is showcasing its strength by defending its territorial claims. Therefore, Beijing has been more aggressive not only in the China–India border conflict but also elsewhere. In recent weeks, China has deployed more troops to the South China Sea and more jets to the Taiwan Strait. It has also passed a national security law to tighten its grip on Hong Kong. Second, Beijing might be calculating that India is too occupied with fighting the COVID-19 disease to wage a border conflict with China. Third, China might just be showing off its army’s capabilities while, at the same time, delivering a political message to India not to get too close to the US. Since the 2017 Doklam border standoff, Indian Prime Minister Narendra Modi has been moving closer to the Americans. India has agreed to expand its two-way trade in advanced defense items and become part of the US manufacturing supply chain. The South Asian giant has also decided to block Chinese companies from taking over domestic businesses. If India moves closer to the US, this could hamper China’s infrastructure development in South Asia, including the disputed economic corridor that links China to Pakistan.  Fourth, the border conflict might be serving Modi’s domestic political needs in addition to Chinese President Xi Jinping’s, but a full-blown would serve neither. The novel coronavirus, which causes the COVID-19 disease, has hit India hard and the government has been criticized for its response. At the time of publishing, there were over 340,000 confirmed cases of COVID-19 in India. Before the outbreak of the coronavirus, many ethnic groups and the opposition organized nationwide protests against the country’s new citizenship law, which allows persecuted non-Muslim minorities to become Indian nationals. Furthermore, since India revoked Kashmir’s semi-autonomous status in August 2019, the disputed territory has been under lockdown. The border issue diverts citizens’ attention conveniently. Also, India considers this a strategic opportunity to push China to recognize the current status of the border, given that it is under immense international pressure. India sees China in no condition to start a war. Fifth, both sides may be jostling to gain favorable strategic positions on the border, but they know that the costs of starting a war outweigh its potential benefits for both of them. These two nuclear powers have enough deterrence capacities against each other. Besides, a conflict with India would weaken China’s focus on meeting key security challenges in the South China Sea. At the same time, India recognizes its military inferiority and inability to win an outright war. In 2019, China’s national defense budget was $261 billion, almost three times that of India’s $71.1 billion. So far, both sides have relied on many communication channels and constant dialogue to prevent the escalation of violence. In early June, top Chinese and Indian generals held high-level talks with each other.  Modi has declared that India is open to a diplomatic solution. India has increased its number of troops at the border and issued a statement about China’s hindrance of India’s normal patrolling patterns, but the rhetoric has been relatively restrained. China has declared the overall situation to be “stable and controllable.” It has also announced that the sides would make use of “unimpeded” channels to resolve their issues. Such statements indicate that both countries have no desire for any further escalation of the current border conflict and that war is unlikely. The views expressed in this article are the author’s own and do not necessarily reflect Fair Observer’s editorial policy. These cookies essential for the website to function. These cookies track our website’s performance and also help us to continuously improve the experience we provide to you. This cookie consists of the word “yes” to enable us to remember your acceptance of the site cookie notification, and prevents it from displaying to you in future.\n"
          ],
          "name": "stdout"
        }
      ]
    },
    {
      "cell_type": "code",
      "metadata": {
        "id": "gadJQfDVj68K",
        "colab_type": "code",
        "colab": {
          "base_uri": "https://localhost:8080/",
          "height": 52
        },
        "outputId": "8d26b5fd-7a2a-4d4f-b8ef-866b294abd9c"
      },
      "source": [
        "data['text']"
      ],
      "execution_count": 110,
      "outputs": [
        {
          "output_type": "execute_result",
          "data": {
            "text/plain": [
              "0    © Tomasz Makowski The border clash between Chi...\n",
              "Name: text, dtype: object"
            ]
          },
          "metadata": {
            "tags": []
          },
          "execution_count": 110
        }
      ]
    }
  ]
}